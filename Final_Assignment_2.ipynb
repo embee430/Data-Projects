{
  "nbformat": 4,
  "nbformat_minor": 0,
  "metadata": {
    "colab": {
      "name": "Final Assignment 2.ipynb",
      "provenance": [],
      "authorship_tag": "ABX9TyPp9DC5TnhUlshwLY+kXLCj",
      "include_colab_link": true
    },
    "kernelspec": {
      "name": "python3",
      "display_name": "Python 3"
    },
    "language_info": {
      "name": "python"
    }
  },
  "cells": [
    {
      "cell_type": "markdown",
      "metadata": {
        "id": "view-in-github",
        "colab_type": "text"
      },
      "source": [
        "<a href=\"https://colab.research.google.com/github/embee430/Data-Projects/blob/main/Final_Assignment_2.ipynb\" target=\"_parent\"><img src=\"https://colab.research.google.com/assets/colab-badge.svg\" alt=\"Open In Colab\"/></a>"
      ]
    },
    {
      "cell_type": "code",
      "source": [
        "#How to webscrape tesla historical revenue data using BeautifulSoup in Python\n",
        "#In this tutorial, i showed how to select a table from multiple table with same class and showed how you extract data and read to a dataframe.\n",
        "#Lastly, i showed how to export the scraped data to csv. "
      ],
      "metadata": {
        "id": "5VD3SgRkeEL0"
      },
      "execution_count": null,
      "outputs": []
    },
    {
      "cell_type": "code",
      "execution_count": 1,
      "metadata": {
        "colab": {
          "base_uri": "https://localhost:8080/"
        },
        "id": "AVFm5T9X6foV",
        "outputId": "de34dae0-b4ce-4af0-d867-4a0db661b42b"
      },
      "outputs": [
        {
          "output_type": "stream",
          "name": "stdout",
          "text": [
            "Requirement already satisfied: requests in /usr/local/lib/python3.7/dist-packages (2.23.0)\n",
            "Requirement already satisfied: idna<3,>=2.5 in /usr/local/lib/python3.7/dist-packages (from requests) (2.10)\n",
            "Requirement already satisfied: certifi>=2017.4.17 in /usr/local/lib/python3.7/dist-packages (from requests) (2021.10.8)\n",
            "Requirement already satisfied: urllib3!=1.25.0,!=1.25.1,<1.26,>=1.21.1 in /usr/local/lib/python3.7/dist-packages (from requests) (1.24.3)\n",
            "Requirement already satisfied: chardet<4,>=3.0.2 in /usr/local/lib/python3.7/dist-packages (from requests) (3.0.4)\n"
          ]
        }
      ],
      "source": [
        "pip install requests"
      ]
    },
    {
      "cell_type": "code",
      "source": [
        "from bs4 import BeautifulSoup\n",
        "import requests\n",
        "import pandas as pd"
      ],
      "metadata": {
        "id": "YiX2xA906uvp"
      },
      "execution_count": 51,
      "outputs": []
    },
    {
      "cell_type": "code",
      "source": [
        "url = 'https://www.macrotrends.net/stocks/charts/TSLA/tesla/revenue'"
      ],
      "metadata": {
        "id": "TGrCa2h36-SN"
      },
      "execution_count": 38,
      "outputs": []
    },
    {
      "cell_type": "code",
      "source": [
        "page = requests.get(url)"
      ],
      "metadata": {
        "id": "LoacimnK7JW8"
      },
      "execution_count": 39,
      "outputs": []
    },
    {
      "cell_type": "code",
      "source": [
        "soup = BeautifulSoup(page.text, 'html.parser')"
      ],
      "metadata": {
        "id": "Z3NSRUsC7pnk"
      },
      "execution_count": 40,
      "outputs": []
    },
    {
      "cell_type": "code",
      "source": [
        "table = soup.find_all('table')"
      ],
      "metadata": {
        "id": "xkMMtUBoZUDT"
      },
      "execution_count": 44,
      "outputs": []
    },
    {
      "cell_type": "code",
      "source": [
        "len(table)"
      ],
      "metadata": {
        "colab": {
          "base_uri": "https://localhost:8080/"
        },
        "id": "zaziQKBJZbMf",
        "outputId": "5c17178b-c82e-4825-e066-d96358b48a34"
      },
      "execution_count": 45,
      "outputs": [
        {
          "output_type": "execute_result",
          "data": {
            "text/plain": [
              "6"
            ]
          },
          "metadata": {},
          "execution_count": 45
        }
      ]
    },
    {
      "cell_type": "code",
      "source": [
        "table1 = table[1]"
      ],
      "metadata": {
        "id": "rpFDThdwZj1k"
      },
      "execution_count": 49,
      "outputs": []
    },
    {
      "cell_type": "code",
      "source": [
        "tesla_revenue = pd.DataFrame(columns=['Date', 'Revenue'])"
      ],
      "metadata": {
        "id": "Xter3UBwZqm6"
      },
      "execution_count": 52,
      "outputs": []
    },
    {
      "cell_type": "code",
      "source": [
        "for row in table1.find('tbody').find_all('tr'):\n",
        "  col = row.find_all('td')\n",
        "  Date = col[0].text\n",
        "  Revenue = col[1].text\n",
        "  tesla_revenue = tesla_revenue.append({'Date':Date, 'Revenue':Revenue}, ignore_index=True)"
      ],
      "metadata": {
        "id": "3azCJJO_aE5I"
      },
      "execution_count": 57,
      "outputs": []
    },
    {
      "cell_type": "code",
      "source": [
        "tesla_revenue = tesla_revenue.drop(0)"
      ],
      "metadata": {
        "id": "TQ7_SDdjcU2F"
      },
      "execution_count": 63,
      "outputs": []
    },
    {
      "cell_type": "code",
      "source": [
        "tesla_revenue"
      ],
      "metadata": {
        "colab": {
          "base_uri": "https://localhost:8080/",
          "height": 1000
        },
        "id": "xmRMJPIkcXs7",
        "outputId": "c66bc873-0e6a-4033-d337-abbe7ca6915e"
      },
      "execution_count": 64,
      "outputs": [
        {
          "output_type": "execute_result",
          "data": {
            "text/plain": [
              "          Date  Revenue\n",
              "1   2021-12-31  $17,719\n",
              "2   2021-09-30  $13,757\n",
              "3   2021-06-30  $11,958\n",
              "4   2021-03-31  $10,389\n",
              "5   2020-12-31  $10,744\n",
              "6   2020-09-30   $8,771\n",
              "7   2020-06-30   $6,036\n",
              "8   2020-03-31   $5,985\n",
              "9   2019-12-31   $7,384\n",
              "10  2019-09-30   $6,303\n",
              "11  2019-06-30   $6,350\n",
              "12  2019-03-31   $4,541\n",
              "13  2018-12-31   $7,226\n",
              "14  2018-09-30   $6,824\n",
              "15  2018-06-30   $4,002\n",
              "16  2018-03-31   $3,409\n",
              "17  2017-12-31   $3,288\n",
              "18  2017-09-30   $2,985\n",
              "19  2017-06-30   $2,790\n",
              "20  2017-03-31   $2,696\n",
              "21  2016-12-31   $2,285\n",
              "22  2016-09-30   $2,298\n",
              "23  2016-06-30   $1,270\n",
              "24  2016-03-31   $1,147\n",
              "25  2015-12-31   $1,214\n",
              "26  2015-09-30     $937\n",
              "27  2015-06-30     $955\n",
              "28  2015-03-31     $940\n",
              "29  2014-12-31     $957\n",
              "30  2014-09-30     $852\n",
              "31  2014-06-30     $769\n",
              "32  2014-03-31     $621\n",
              "33  2013-12-31     $615\n",
              "34  2013-09-30     $431\n",
              "35  2013-06-30     $405\n",
              "36  2013-03-31     $562\n",
              "37  2012-12-31     $306\n",
              "38  2012-09-30      $50\n",
              "39  2012-06-30      $27\n",
              "40  2012-03-31      $30\n",
              "41  2011-12-31      $39\n",
              "42  2011-09-30      $58\n",
              "43  2011-06-30      $58\n",
              "44  2011-03-31      $49\n",
              "45  2010-12-31      $36\n",
              "46  2010-09-30      $31\n",
              "47  2010-06-30      $28\n",
              "48  2010-03-31      $21\n",
              "49  2009-12-31         \n",
              "50  2009-09-30      $46\n",
              "51  2009-06-30      $27"
            ],
            "text/html": [
              "\n",
              "  <div id=\"df-e07c30cd-cadc-4211-99d7-4686787b32ba\">\n",
              "    <div class=\"colab-df-container\">\n",
              "      <div>\n",
              "<style scoped>\n",
              "    .dataframe tbody tr th:only-of-type {\n",
              "        vertical-align: middle;\n",
              "    }\n",
              "\n",
              "    .dataframe tbody tr th {\n",
              "        vertical-align: top;\n",
              "    }\n",
              "\n",
              "    .dataframe thead th {\n",
              "        text-align: right;\n",
              "    }\n",
              "</style>\n",
              "<table border=\"1\" class=\"dataframe\">\n",
              "  <thead>\n",
              "    <tr style=\"text-align: right;\">\n",
              "      <th></th>\n",
              "      <th>Date</th>\n",
              "      <th>Revenue</th>\n",
              "    </tr>\n",
              "  </thead>\n",
              "  <tbody>\n",
              "    <tr>\n",
              "      <th>1</th>\n",
              "      <td>2021-12-31</td>\n",
              "      <td>$17,719</td>\n",
              "    </tr>\n",
              "    <tr>\n",
              "      <th>2</th>\n",
              "      <td>2021-09-30</td>\n",
              "      <td>$13,757</td>\n",
              "    </tr>\n",
              "    <tr>\n",
              "      <th>3</th>\n",
              "      <td>2021-06-30</td>\n",
              "      <td>$11,958</td>\n",
              "    </tr>\n",
              "    <tr>\n",
              "      <th>4</th>\n",
              "      <td>2021-03-31</td>\n",
              "      <td>$10,389</td>\n",
              "    </tr>\n",
              "    <tr>\n",
              "      <th>5</th>\n",
              "      <td>2020-12-31</td>\n",
              "      <td>$10,744</td>\n",
              "    </tr>\n",
              "    <tr>\n",
              "      <th>6</th>\n",
              "      <td>2020-09-30</td>\n",
              "      <td>$8,771</td>\n",
              "    </tr>\n",
              "    <tr>\n",
              "      <th>7</th>\n",
              "      <td>2020-06-30</td>\n",
              "      <td>$6,036</td>\n",
              "    </tr>\n",
              "    <tr>\n",
              "      <th>8</th>\n",
              "      <td>2020-03-31</td>\n",
              "      <td>$5,985</td>\n",
              "    </tr>\n",
              "    <tr>\n",
              "      <th>9</th>\n",
              "      <td>2019-12-31</td>\n",
              "      <td>$7,384</td>\n",
              "    </tr>\n",
              "    <tr>\n",
              "      <th>10</th>\n",
              "      <td>2019-09-30</td>\n",
              "      <td>$6,303</td>\n",
              "    </tr>\n",
              "    <tr>\n",
              "      <th>11</th>\n",
              "      <td>2019-06-30</td>\n",
              "      <td>$6,350</td>\n",
              "    </tr>\n",
              "    <tr>\n",
              "      <th>12</th>\n",
              "      <td>2019-03-31</td>\n",
              "      <td>$4,541</td>\n",
              "    </tr>\n",
              "    <tr>\n",
              "      <th>13</th>\n",
              "      <td>2018-12-31</td>\n",
              "      <td>$7,226</td>\n",
              "    </tr>\n",
              "    <tr>\n",
              "      <th>14</th>\n",
              "      <td>2018-09-30</td>\n",
              "      <td>$6,824</td>\n",
              "    </tr>\n",
              "    <tr>\n",
              "      <th>15</th>\n",
              "      <td>2018-06-30</td>\n",
              "      <td>$4,002</td>\n",
              "    </tr>\n",
              "    <tr>\n",
              "      <th>16</th>\n",
              "      <td>2018-03-31</td>\n",
              "      <td>$3,409</td>\n",
              "    </tr>\n",
              "    <tr>\n",
              "      <th>17</th>\n",
              "      <td>2017-12-31</td>\n",
              "      <td>$3,288</td>\n",
              "    </tr>\n",
              "    <tr>\n",
              "      <th>18</th>\n",
              "      <td>2017-09-30</td>\n",
              "      <td>$2,985</td>\n",
              "    </tr>\n",
              "    <tr>\n",
              "      <th>19</th>\n",
              "      <td>2017-06-30</td>\n",
              "      <td>$2,790</td>\n",
              "    </tr>\n",
              "    <tr>\n",
              "      <th>20</th>\n",
              "      <td>2017-03-31</td>\n",
              "      <td>$2,696</td>\n",
              "    </tr>\n",
              "    <tr>\n",
              "      <th>21</th>\n",
              "      <td>2016-12-31</td>\n",
              "      <td>$2,285</td>\n",
              "    </tr>\n",
              "    <tr>\n",
              "      <th>22</th>\n",
              "      <td>2016-09-30</td>\n",
              "      <td>$2,298</td>\n",
              "    </tr>\n",
              "    <tr>\n",
              "      <th>23</th>\n",
              "      <td>2016-06-30</td>\n",
              "      <td>$1,270</td>\n",
              "    </tr>\n",
              "    <tr>\n",
              "      <th>24</th>\n",
              "      <td>2016-03-31</td>\n",
              "      <td>$1,147</td>\n",
              "    </tr>\n",
              "    <tr>\n",
              "      <th>25</th>\n",
              "      <td>2015-12-31</td>\n",
              "      <td>$1,214</td>\n",
              "    </tr>\n",
              "    <tr>\n",
              "      <th>26</th>\n",
              "      <td>2015-09-30</td>\n",
              "      <td>$937</td>\n",
              "    </tr>\n",
              "    <tr>\n",
              "      <th>27</th>\n",
              "      <td>2015-06-30</td>\n",
              "      <td>$955</td>\n",
              "    </tr>\n",
              "    <tr>\n",
              "      <th>28</th>\n",
              "      <td>2015-03-31</td>\n",
              "      <td>$940</td>\n",
              "    </tr>\n",
              "    <tr>\n",
              "      <th>29</th>\n",
              "      <td>2014-12-31</td>\n",
              "      <td>$957</td>\n",
              "    </tr>\n",
              "    <tr>\n",
              "      <th>30</th>\n",
              "      <td>2014-09-30</td>\n",
              "      <td>$852</td>\n",
              "    </tr>\n",
              "    <tr>\n",
              "      <th>31</th>\n",
              "      <td>2014-06-30</td>\n",
              "      <td>$769</td>\n",
              "    </tr>\n",
              "    <tr>\n",
              "      <th>32</th>\n",
              "      <td>2014-03-31</td>\n",
              "      <td>$621</td>\n",
              "    </tr>\n",
              "    <tr>\n",
              "      <th>33</th>\n",
              "      <td>2013-12-31</td>\n",
              "      <td>$615</td>\n",
              "    </tr>\n",
              "    <tr>\n",
              "      <th>34</th>\n",
              "      <td>2013-09-30</td>\n",
              "      <td>$431</td>\n",
              "    </tr>\n",
              "    <tr>\n",
              "      <th>35</th>\n",
              "      <td>2013-06-30</td>\n",
              "      <td>$405</td>\n",
              "    </tr>\n",
              "    <tr>\n",
              "      <th>36</th>\n",
              "      <td>2013-03-31</td>\n",
              "      <td>$562</td>\n",
              "    </tr>\n",
              "    <tr>\n",
              "      <th>37</th>\n",
              "      <td>2012-12-31</td>\n",
              "      <td>$306</td>\n",
              "    </tr>\n",
              "    <tr>\n",
              "      <th>38</th>\n",
              "      <td>2012-09-30</td>\n",
              "      <td>$50</td>\n",
              "    </tr>\n",
              "    <tr>\n",
              "      <th>39</th>\n",
              "      <td>2012-06-30</td>\n",
              "      <td>$27</td>\n",
              "    </tr>\n",
              "    <tr>\n",
              "      <th>40</th>\n",
              "      <td>2012-03-31</td>\n",
              "      <td>$30</td>\n",
              "    </tr>\n",
              "    <tr>\n",
              "      <th>41</th>\n",
              "      <td>2011-12-31</td>\n",
              "      <td>$39</td>\n",
              "    </tr>\n",
              "    <tr>\n",
              "      <th>42</th>\n",
              "      <td>2011-09-30</td>\n",
              "      <td>$58</td>\n",
              "    </tr>\n",
              "    <tr>\n",
              "      <th>43</th>\n",
              "      <td>2011-06-30</td>\n",
              "      <td>$58</td>\n",
              "    </tr>\n",
              "    <tr>\n",
              "      <th>44</th>\n",
              "      <td>2011-03-31</td>\n",
              "      <td>$49</td>\n",
              "    </tr>\n",
              "    <tr>\n",
              "      <th>45</th>\n",
              "      <td>2010-12-31</td>\n",
              "      <td>$36</td>\n",
              "    </tr>\n",
              "    <tr>\n",
              "      <th>46</th>\n",
              "      <td>2010-09-30</td>\n",
              "      <td>$31</td>\n",
              "    </tr>\n",
              "    <tr>\n",
              "      <th>47</th>\n",
              "      <td>2010-06-30</td>\n",
              "      <td>$28</td>\n",
              "    </tr>\n",
              "    <tr>\n",
              "      <th>48</th>\n",
              "      <td>2010-03-31</td>\n",
              "      <td>$21</td>\n",
              "    </tr>\n",
              "    <tr>\n",
              "      <th>49</th>\n",
              "      <td>2009-12-31</td>\n",
              "      <td></td>\n",
              "    </tr>\n",
              "    <tr>\n",
              "      <th>50</th>\n",
              "      <td>2009-09-30</td>\n",
              "      <td>$46</td>\n",
              "    </tr>\n",
              "    <tr>\n",
              "      <th>51</th>\n",
              "      <td>2009-06-30</td>\n",
              "      <td>$27</td>\n",
              "    </tr>\n",
              "  </tbody>\n",
              "</table>\n",
              "</div>\n",
              "      <button class=\"colab-df-convert\" onclick=\"convertToInteractive('df-e07c30cd-cadc-4211-99d7-4686787b32ba')\"\n",
              "              title=\"Convert this dataframe to an interactive table.\"\n",
              "              style=\"display:none;\">\n",
              "        \n",
              "  <svg xmlns=\"http://www.w3.org/2000/svg\" height=\"24px\"viewBox=\"0 0 24 24\"\n",
              "       width=\"24px\">\n",
              "    <path d=\"M0 0h24v24H0V0z\" fill=\"none\"/>\n",
              "    <path d=\"M18.56 5.44l.94 2.06.94-2.06 2.06-.94-2.06-.94-.94-2.06-.94 2.06-2.06.94zm-11 1L8.5 8.5l.94-2.06 2.06-.94-2.06-.94L8.5 2.5l-.94 2.06-2.06.94zm10 10l.94 2.06.94-2.06 2.06-.94-2.06-.94-.94-2.06-.94 2.06-2.06.94z\"/><path d=\"M17.41 7.96l-1.37-1.37c-.4-.4-.92-.59-1.43-.59-.52 0-1.04.2-1.43.59L10.3 9.45l-7.72 7.72c-.78.78-.78 2.05 0 2.83L4 21.41c.39.39.9.59 1.41.59.51 0 1.02-.2 1.41-.59l7.78-7.78 2.81-2.81c.8-.78.8-2.07 0-2.86zM5.41 20L4 18.59l7.72-7.72 1.47 1.35L5.41 20z\"/>\n",
              "  </svg>\n",
              "      </button>\n",
              "      \n",
              "  <style>\n",
              "    .colab-df-container {\n",
              "      display:flex;\n",
              "      flex-wrap:wrap;\n",
              "      gap: 12px;\n",
              "    }\n",
              "\n",
              "    .colab-df-convert {\n",
              "      background-color: #E8F0FE;\n",
              "      border: none;\n",
              "      border-radius: 50%;\n",
              "      cursor: pointer;\n",
              "      display: none;\n",
              "      fill: #1967D2;\n",
              "      height: 32px;\n",
              "      padding: 0 0 0 0;\n",
              "      width: 32px;\n",
              "    }\n",
              "\n",
              "    .colab-df-convert:hover {\n",
              "      background-color: #E2EBFA;\n",
              "      box-shadow: 0px 1px 2px rgba(60, 64, 67, 0.3), 0px 1px 3px 1px rgba(60, 64, 67, 0.15);\n",
              "      fill: #174EA6;\n",
              "    }\n",
              "\n",
              "    [theme=dark] .colab-df-convert {\n",
              "      background-color: #3B4455;\n",
              "      fill: #D2E3FC;\n",
              "    }\n",
              "\n",
              "    [theme=dark] .colab-df-convert:hover {\n",
              "      background-color: #434B5C;\n",
              "      box-shadow: 0px 1px 3px 1px rgba(0, 0, 0, 0.15);\n",
              "      filter: drop-shadow(0px 1px 2px rgba(0, 0, 0, 0.3));\n",
              "      fill: #FFFFFF;\n",
              "    }\n",
              "  </style>\n",
              "\n",
              "      <script>\n",
              "        const buttonEl =\n",
              "          document.querySelector('#df-e07c30cd-cadc-4211-99d7-4686787b32ba button.colab-df-convert');\n",
              "        buttonEl.style.display =\n",
              "          google.colab.kernel.accessAllowed ? 'block' : 'none';\n",
              "\n",
              "        async function convertToInteractive(key) {\n",
              "          const element = document.querySelector('#df-e07c30cd-cadc-4211-99d7-4686787b32ba');\n",
              "          const dataTable =\n",
              "            await google.colab.kernel.invokeFunction('convertToInteractive',\n",
              "                                                     [key], {});\n",
              "          if (!dataTable) return;\n",
              "\n",
              "          const docLinkHtml = 'Like what you see? Visit the ' +\n",
              "            '<a target=\"_blank\" href=https://colab.research.google.com/notebooks/data_table.ipynb>data table notebook</a>'\n",
              "            + ' to learn more about interactive tables.';\n",
              "          element.innerHTML = '';\n",
              "          dataTable['output_type'] = 'display_data';\n",
              "          await google.colab.output.renderOutput(dataTable, element);\n",
              "          const docLink = document.createElement('div');\n",
              "          docLink.innerHTML = docLinkHtml;\n",
              "          element.appendChild(docLink);\n",
              "        }\n",
              "      </script>\n",
              "    </div>\n",
              "  </div>\n",
              "  "
            ]
          },
          "metadata": {},
          "execution_count": 64
        }
      ]
    },
    {
      "cell_type": "code",
      "source": [
        "tesla_revenue1 = tesla_revenue.to_csv('tesla.csv')"
      ],
      "metadata": {
        "id": "2nGfe4UAeyxL"
      },
      "execution_count": 67,
      "outputs": []
    },
    {
      "cell_type": "code",
      "source": [
        "tesla_revenue1"
      ],
      "metadata": {
        "id": "RKwzBumNfBAQ"
      },
      "execution_count": 68,
      "outputs": []
    },
    {
      "cell_type": "code",
      "source": [
        ""
      ],
      "metadata": {
        "id": "211XsZuHfeQK"
      },
      "execution_count": null,
      "outputs": []
    }
  ]
}