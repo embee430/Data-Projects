{
  "nbformat": 4,
  "nbformat_minor": 0,
  "metadata": {
    "colab": {
      "name": "Dashboard with DashPlotly.ipynb",
      "provenance": [],
      "collapsed_sections": [],
      "authorship_tag": "ABX9TyONzEqxAlHkr2AfIWCG1P70",
      "include_colab_link": true
    },
    "kernelspec": {
      "name": "python3",
      "display_name": "Python 3"
    },
    "language_info": {
      "name": "python"
    }
  },
  "cells": [
    {
      "cell_type": "markdown",
      "metadata": {
        "id": "view-in-github",
        "colab_type": "text"
      },
      "source": [
        "<a href=\"https://colab.research.google.com/github/embee430/Data-Projects/blob/main/Dashboard_with_DashPlotly.ipynb\" target=\"_parent\"><img src=\"https://colab.research.google.com/assets/colab-badge.svg\" alt=\"Open In Colab\"/></a>"
      ]
    },
    {
      "cell_type": "code",
      "execution_count": null,
      "metadata": {
        "id": "d7MEvK2tfRug"
      },
      "outputs": [],
      "source": [
        "!pip install dash\n",
        "!pip install jupyter-dash"
      ]
    },
    {
      "cell_type": "code",
      "source": [
        "# Import required packages\n",
        "from jupyter_dash import JupyterDash\n",
        "import plotly.graph_objects as go\n",
        "from dash import no_update\n",
        "import pandas as pd\n",
        "import dash\n",
        "import dash_core_components as dcc\n",
        "import dash_html_components as html\n",
        "import plotly.express as px\n",
        "from dash.dependencies import Input, Output"
      ],
      "metadata": {
        "id": "Xv98kf9IfZ69"
      },
      "execution_count": 66,
      "outputs": []
    },
    {
      "cell_type": "code",
      "source": [
        "# Add Dataframe\n",
        "airline_data =  pd.read_csv('https://cf-courses-data.s3.us.cloud-object-storage.appdomain.cloud/IBMDeveloperSkillsNetwork-DV0101EN-SkillsNetwork/Data%20Files/airline_data.csv', \n",
        "                            encoding = \"ISO-8859-1\",\n",
        "                            dtype={'Div1Airport': str, 'Div1TailNum': str, \n",
        "                                   'Div2Airport': str, 'Div2TailNum': str})\n",
        "\n",
        "\n",
        "# List of years \n",
        "year_list = [i for i in range(2005, 2021, 1)]\n",
        "\"\"\"Compute graph data for creating yearly airline performance report \n",
        "\n",
        "Function that takes airline data as input and create 5 dataframes based on the grouping condition to be used for plottling charts and grphs.\n",
        "\n",
        "Argument:\n",
        "     \n",
        "    df: Filtered dataframe\n",
        "    \n",
        "Returns:\n",
        "   Dataframes to create graph. \n",
        "\"\"\"\n",
        "def compute_data_choice_1(df):\n",
        "    # Cancellation Category Count\n",
        "    bar_data = df.groupby(['Month','CancellationCode'])['Flights'].sum().reset_index()\n",
        "    # Average flight time by reporting airline\n",
        "    line_data = df.groupby(['Month','Reporting_Airline'])['AirTime'].mean().reset_index()\n",
        "    # Diverted Airport Landings\n",
        "    div_data = df[df['DivAirportLandings'] != 0.0]\n",
        "    # Source state count\n",
        "    map_data = df.groupby(['OriginState'])['Flights'].sum().reset_index()\n",
        "    # Destination state count\n",
        "    tree_data = df.groupby(['DestState', 'Reporting_Airline'])['Flights'].sum().reset_index()\n",
        "    return bar_data, line_data, div_data, map_data, tree_data\n",
        "\n",
        "\n",
        "\"\"\"Compute graph data for creating yearly airline delay report\n",
        "\n",
        "This function takes in airline data and selected year as an input and performs computation for creating charts and plots.\n",
        "\n",
        "Arguments:\n",
        "    df: Input airline data.\n",
        "    \n",
        "Returns:\n",
        "    Computed average dataframes for carrier delay, weather delay, NAS delay, security delay, and late aircraft delay.\n",
        "\"\"\"\n",
        "def compute_data_choice_2(df):\n",
        "    # Compute delay averages\n",
        "    avg_car = df.groupby(['Month','Reporting_Airline'])['CarrierDelay'].mean().reset_index()\n",
        "    avg_weather = df.groupby(['Month','Reporting_Airline'])['WeatherDelay'].mean().reset_index()\n",
        "    avg_NAS = df.groupby(['Month','Reporting_Airline'])['NASDelay'].mean().reset_index()\n",
        "    avg_sec = df.groupby(['Month','Reporting_Airline'])['SecurityDelay'].mean().reset_index()\n",
        "    avg_late = df.groupby(['Month','Reporting_Airline'])['LateAircraftDelay'].mean().reset_index()\n",
        "    return avg_car, avg_weather, avg_NAS, avg_sec, avg_late\n",
        "\n",
        "\n",
        "# Add a bar graph figure\n",
        "\n",
        "# Create a dash application\n",
        "app = JupyterDash(__name__)\n",
        "JupyterDash.infer_jupyter_proxy_config()\n",
        "\n",
        "# REVIEW1: Clear the layout and do not display exception till callback gets executed\n",
        "app.config.suppress_callback_exceptions = True\n",
        "\n",
        "#App layout\n",
        "\n",
        "#Create a Title\n",
        "app.layout = html.Div(children=[html.H1(children='US Domestic Airline Flights Performance',style={'textAlign': 'center','color': '#503D36', 'font-size': 24}),\n",
        "\n",
        "#Outer division starts for Report type\n",
        "html.Div([\n",
        "          \n",
        "          #First inner division for dropdown title\n",
        "          html.Div(html.H2('Report Type:', style={'margin-right': '2em'}),),\n",
        "#Create a dropdown division\n",
        "        dcc.Dropdown(id='input-type', options=[\n",
        "            {'label': 'Yearly Airline Performance Report', 'value': 'OPT1'},\n",
        "            {'label': 'Yearly Airline Delay Report', 'value': 'OPT2'},\n",
        "        ],\n",
        "        placeholder='Select a report type', # Providing a value to dropdown\n",
        "        style={'width':'80%', 'padding':'3px', 'font-size': '20px', 'text-align-last' : 'center'}\n",
        "    )\n",
        "\n",
        "],style={'display': 'flex'}), #Outer divison ends\n",
        "\n",
        "#Outer division starts for Year\n",
        "html.Div([\n",
        "    #1st inner division for Year\n",
        "    html.Div(html.H2('Choose Year', style={'margin-right': '2em'})),\n",
        "\n",
        "    #2nd division for dropdown\n",
        "    dcc.Dropdown(id='input-year', \n",
        "                # Update dropdown values using list comphrehension\n",
        "                 options=[{'label': i, 'value': i} for i in year_list],\n",
        "                 placeholder=\"Select a year\",\n",
        "                 style={'width':'80%', 'padding':'3px', 'font-size': '20px', 'text-align-last' : 'center'}),\n",
        "                 # Place them next to each other using the division style\n",
        "                 ], style={'display': 'flex'}),    \n",
        "\n",
        "#Add 1st graphs division\n",
        "    html.Div([ ], id='plot1'),\n",
        "#Add 2nd/3rd graph division side-by-side\n",
        "                                html.Div([\n",
        "                                        html.Div([ ], id='plot2'),\n",
        "                                        html.Div([ ], id='plot3')\n",
        "                                ], style={'display': 'flex'}),\n",
        "\n",
        "#Add 4th/5th graph division side-by-side\n",
        "            html.Div([\n",
        "                                        html.Div([ ], id='plot4'),\n",
        "                                        html.Div([ ], id='plot5')\n",
        "                                ], style={'display': 'flex'})\n",
        "])  #Layout ends\n",
        "\n",
        "#Place to add @app.callback Decorator\n",
        "@app.callback([Output(component_id='plot1', component_property='children'),\n",
        "               Output(component_id='plot2', component_property='children'),\n",
        "               Output(component_id='plot3', component_property='children'),\n",
        "               Output(component_id='plot4', component_property='children'),\n",
        "               Output(component_id='plot5', component_property='children')],\n",
        "               [Input(component_id='input-type', component_property='value'),\n",
        "               Input(component_id='input-year', component_property='value')],\n",
        "               # REVIEW4: Holding output state till user enters all the form information. In this case, it will be chart type and year\n",
        "               [State(\"plot1\", 'children'), State(\"plot2\", \"children\"),\n",
        "                State(\"plot3\", \"children\"), State(\"plot4\", \"children\"),\n",
        "                State(\"plot5\", \"children\")\n",
        "               ])\n",
        "\n",
        "# Add computation to callback function and return graph\n",
        "def get_graph(chart, year, children1, children2, c3, c4, c5):\n",
        "      \n",
        "        # Select data\n",
        "        df =  airline_data[airline_data['Year']==int(year)]\n",
        "       \n",
        "        if chart == 'OPT1':\n",
        "            # Compute required information for creating graph from the data\n",
        "            bar_data, line_data, div_data, map_data, tree_data = compute_data_choice_1(df)\n",
        "            \n",
        "            # Number of flights under different cancellation categories\n",
        "            bar_fig = px.bar(bar_data, x='Month', y='Flights', color='CancellationCode', title='Monthly Flight Cancellation')\n",
        "            \n",
        "            # TASK5: Average flight time by reporting airline\n",
        "            # Enter your code below. Make sure you have correct formatting.\n",
        "            line_fig = px.line(line_data, x='Month', y='AirTime', color='Reporting_Airline', title='Average monthly flight time (minutes) by airline')\n",
        "            \n",
        "            \n",
        "            # Percentage of diverted airport landings per reporting airline\n",
        "            pie_fig = px.pie(div_data, values='Flights', names='Reporting_Airline', title='% of flights by reporting airline')\n",
        "            \n",
        "            # REVIEW5: Number of flights flying from each state using choropleth\n",
        "            map_fig = px.choropleth(map_data,  # Input data\n",
        "                    locations='OriginState', \n",
        "                    color='Flights',  \n",
        "                    hover_data=['OriginState', 'Flights'], \n",
        "                    locationmode = 'USA-states', # Set to plot as US States\n",
        "                    color_continuous_scale='GnBu',\n",
        "                    range_color=[0, map_data['Flights'].max()]) \n",
        "            map_fig.update_layout(\n",
        "                    title_text = 'Number of flights from origin state', \n",
        "                    geo_scope='usa') # Plot only the USA instead of globe\n",
        "            \n",
        "            # TASK6: Number of flights flying to each state from each reporting airline\n",
        "            # Enter your code below. Make sure you have correct formatting.\n",
        "            tree_fig = px.treemap(tree_data, path=['DestState', 'Reporting_Airline'], \n",
        "                      values='Flights',\n",
        "                      color='Flights',\n",
        "                      color_continuous_scale='RdBu',\n",
        "                      title='Flight count by airline to destination state'\n",
        "                )\n",
        "            \n",
        "            \n",
        "            # REVIEW6: Return dcc.Graph component to the empty division\n",
        "            return [dcc.Graph(figure=tree_fig), \n",
        "                    dcc.Graph(figure=pie_fig),\n",
        "                    dcc.Graph(figure=map_fig),\n",
        "                    dcc.Graph(figure=bar_fig),\n",
        "                    dcc.Graph(figure=line_fig)\n",
        "                   ]\n",
        "        else:\n",
        "            # REVIEW7: This covers chart type 2 and we have completed this exercise under Flight Delay Time Statistics Dashboard section\n",
        "            # Compute required information for creating graph from the data\n",
        "            avg_car, avg_weather, avg_NAS, avg_sec, avg_late = compute_data_choice_2(df)\n",
        "            \n",
        "            # Create graph\n",
        "            carrier_fig = px.line(avg_car, x='Month', y='CarrierDelay', color='Reporting_Airline', title='Average carrrier delay time (minutes) by airline')\n",
        "            weather_fig = px.line(avg_weather, x='Month', y='WeatherDelay', color='Reporting_Airline', title='Average weather delay time (minutes) by airline')\n",
        "            nas_fig = px.line(avg_NAS, x='Month', y='NASDelay', color='Reporting_Airline', title='Average NAS delay time (minutes) by airline')\n",
        "            sec_fig = px.line(avg_sec, x='Month', y='SecurityDelay', color='Reporting_Airline', title='Average security delay time (minutes) by airline')\n",
        "            late_fig = px.line(avg_late, x='Month', y='LateAircraftDelay', color='Reporting_Airline', title='Average late aircraft delay time (minutes) by airline')\n",
        "            \n",
        "            return[dcc.Graph(figure=carrier_fig), \n",
        "                   dcc.Graph(figure=weather_fig), \n",
        "                   dcc.Graph(figure=nas_fig), \n",
        "                   dcc.Graph(figure=sec_fig), \n",
        "                   dcc.Graph(figure=late_fig)]"
      ],
      "metadata": {
        "id": "UrJWxuHCf_Yx"
      },
      "execution_count": 67,
      "outputs": []
    },
    {
      "cell_type": "code",
      "source": [
        "# Run Application\n",
        "if __name__ == '__main__':\n",
        "    app.run_server()"
      ],
      "metadata": {
        "colab": {
          "base_uri": "https://localhost:8080/",
          "height": 52
        },
        "id": "Ddkp_Ol7gaEC",
        "outputId": "834c4f74-b5d4-453e-90b1-ace845ab1fb1"
      },
      "execution_count": 68,
      "outputs": [
        {
          "output_type": "stream",
          "name": "stdout",
          "text": [
            "Dash app running on:\n"
          ]
        },
        {
          "output_type": "display_data",
          "data": {
            "text/plain": [
              "<IPython.core.display.Javascript object>"
            ],
            "application/javascript": [
              "(async (port, path, text, element) => {\n",
              "    if (!google.colab.kernel.accessAllowed) {\n",
              "      return;\n",
              "    }\n",
              "    element.appendChild(document.createTextNode(''));\n",
              "    const url = await google.colab.kernel.proxyPort(port);\n",
              "    const anchor = document.createElement('a');\n",
              "    anchor.href = new URL(path, url).toString();\n",
              "    anchor.target = '_blank';\n",
              "    anchor.setAttribute('data-href', url + path);\n",
              "    anchor.textContent = text;\n",
              "    element.appendChild(anchor);\n",
              "  })(8050, \"/\", \"http://127.0.0.1:8050/\", window.element)"
            ]
          },
          "metadata": {}
        }
      ]
    },
    {
      "cell_type": "code",
      "source": [
        ""
      ],
      "metadata": {
        "id": "iAf3hkg6i_fR"
      },
      "execution_count": null,
      "outputs": []
    }
  ]
}