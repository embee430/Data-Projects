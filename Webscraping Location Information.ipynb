{
  "nbformat": 4,
  "nbformat_minor": 0,
  "metadata": {
    "colab": {
      "name": "Untitled19.ipynb",
      "provenance": [],
      "authorship_tag": "ABX9TyOQ7KzbU3mhXT0E3br11b+B",
      "include_colab_link": true
    },
    "kernelspec": {
      "name": "python3",
      "display_name": "Python 3"
    },
    "language_info": {
      "name": "python"
    }
  },
  "cells": [
    {
      "cell_type": "markdown",
      "metadata": {
        "id": "view-in-github",
        "colab_type": "text"
      },
      "source": [
        "<a href=\"https://colab.research.google.com/github/embee430/Data-Projects/blob/main/Webscraping%20Location%20Information.ipynb\" target=\"_parent\"><img src=\"https://colab.research.google.com/assets/colab-badge.svg\" alt=\"Open In Colab\"/></a>"
      ]
    },
    {
      "cell_type": "code",
      "source": [
        "#How to webscrape location information of Nigerian States and convert to a Dataframe\n",
        "#I will also export the frame to a CSV file."
      ],
      "metadata": {
        "id": "QGy9ICBOdFfG"
      },
      "execution_count": null,
      "outputs": []
    },
    {
      "cell_type": "code",
      "execution_count": 3,
      "metadata": {
        "colab": {
          "base_uri": "https://localhost:8080/"
        },
        "id": "8xLYhIy9b1sF",
        "outputId": "aee5718b-3818-43a4-831e-b05852b2d98a"
      },
      "outputs": [
        {
          "output_type": "stream",
          "name": "stdout",
          "text": [
            "Requirement already satisfied: requests in /usr/local/lib/python3.7/dist-packages (2.23.0)\n",
            "Requirement already satisfied: chardet<4,>=3.0.2 in /usr/local/lib/python3.7/dist-packages (from requests) (3.0.4)\n",
            "Requirement already satisfied: idna<3,>=2.5 in /usr/local/lib/python3.7/dist-packages (from requests) (2.10)\n",
            "Requirement already satisfied: certifi>=2017.4.17 in /usr/local/lib/python3.7/dist-packages (from requests) (2021.10.8)\n",
            "Requirement already satisfied: urllib3!=1.25.0,!=1.25.1,<1.26,>=1.21.1 in /usr/local/lib/python3.7/dist-packages (from requests) (1.24.3)\n"
          ]
        }
      ],
      "source": [
        "!pip install requests\n",
        "import pandas as pd\n",
        "import requests"
      ]
    },
    {
      "cell_type": "code",
      "source": [
        "url = 'https://www.distancelatlong.com/country/nigeria'"
      ],
      "metadata": {
        "id": "jFgyNOTQb5Rb"
      },
      "execution_count": 4,
      "outputs": []
    },
    {
      "cell_type": "code",
      "source": [
        "location_data = requests.get(url)"
      ],
      "metadata": {
        "id": "jd_JHlO9cG1L"
      },
      "execution_count": 5,
      "outputs": []
    },
    {
      "cell_type": "code",
      "source": [
        "location_data"
      ],
      "metadata": {
        "colab": {
          "base_uri": "https://localhost:8080/"
        },
        "id": "684ManLLcQYS",
        "outputId": "4bd0d0d0-1d89-43d0-c628-c1e0538f2ed0"
      },
      "execution_count": 6,
      "outputs": [
        {
          "output_type": "execute_result",
          "data": {
            "text/plain": [
              "<Response [200]>"
            ]
          },
          "metadata": {},
          "execution_count": 6
        }
      ]
    },
    {
      "cell_type": "code",
      "source": [
        "df = pd.read_html(url)"
      ],
      "metadata": {
        "id": "GAHljisVcUA_"
      },
      "execution_count": 7,
      "outputs": []
    },
    {
      "cell_type": "code",
      "source": [
        "loc_data=df[2]"
      ],
      "metadata": {
        "id": "7VdH4ztYcamO"
      },
      "execution_count": 11,
      "outputs": []
    },
    {
      "cell_type": "code",
      "source": [
        "loc_data = pd.DataFrame(loc_data)"
      ],
      "metadata": {
        "id": "t_1EE3SVcd0Q"
      },
      "execution_count": 12,
      "outputs": []
    },
    {
      "cell_type": "code",
      "source": [
        "loc_data"
      ],
      "metadata": {
        "colab": {
          "base_uri": "https://localhost:8080/",
          "height": 1000
        },
        "id": "4ABx3rR7c-Mh",
        "outputId": "78c909cc-0fd7-4c38-ac80-3ae0b5bfcc0c"
      },
      "execution_count": 15,
      "outputs": [
        {
          "output_type": "execute_result",
          "data": {
            "text/plain": [
              "                           States   Latitude  Longitude\n",
              "0                        Abia (2)   5.532003   7.486002\n",
              "1                     Adamawa (3)  10.270341  13.270032\n",
              "2                   Akwa Ibom (2)   5.007996   7.849999\n",
              "3                     Anambra (2)   6.210434   7.069997\n",
              "4                      Bauchi (2)  11.680410  10.190013\n",
              "5                       Benue (2)   7.190400   8.129984\n",
              "6                       Borno (3)  10.620423  12.189995\n",
              "7                 Cross River (1)   4.960407   8.330024\n",
              "8                       Delta (2)   5.890427   5.680004\n",
              "9                         Edo (1)   6.340477   5.620008\n",
              "10                      Ekiti (1)   7.630373   5.219981\n",
              "11                      Enugu (2)   6.867034   7.383363\n",
              "12  Federal Capital Territory (1)   9.083333   7.533328\n",
              "13                      Gombe (2)  10.290443  11.169954\n",
              "14                        Imo (2)   5.492997   7.026004\n",
              "15                     Jigawa (1)  11.799189   9.350335\n",
              "16                     Kaduna (2)  11.079981   7.710010\n",
              "17                       Kano (1)  11.999977   8.520038\n",
              "18                    Katsina (2)  11.520394   7.320008\n",
              "19                      Kebbi (2)  12.450414   4.199940\n",
              "20                       Kogi (2)   7.800388   6.739940\n",
              "21                      Kwara (1)   8.490010   4.549996\n",
              "22                      Lagos (1)   6.443262   3.391531\n",
              "23                  Nassarawa (2)   8.490424   8.520038\n",
              "24                      Niger (3)  10.400359   5.469940\n",
              "25                       Ogun (2)   7.160427   3.350017\n",
              "26                       Ondo (4)   7.250396   5.199982\n",
              "27                       Osun (3)   7.629959   4.179993\n",
              "28                        Oyo (4)   7.970016   3.590003\n",
              "29                    Plateau (1)   9.929974   8.890041\n",
              "30                     Rivers (1)   4.810002   7.010001\n",
              "31                     Sokoto (1)  13.060015   5.240031\n",
              "32                     Taraba (2)   7.870410   9.780013\n",
              "33                       Yobe (4)  11.748996  11.966005\n",
              "34                    Zamfara (1)  12.170406   6.659996"
            ],
            "text/html": [
              "\n",
              "  <div id=\"df-11393c9d-15e9-42d4-a7b3-fef8f7f5b2b0\">\n",
              "    <div class=\"colab-df-container\">\n",
              "      <div>\n",
              "<style scoped>\n",
              "    .dataframe tbody tr th:only-of-type {\n",
              "        vertical-align: middle;\n",
              "    }\n",
              "\n",
              "    .dataframe tbody tr th {\n",
              "        vertical-align: top;\n",
              "    }\n",
              "\n",
              "    .dataframe thead th {\n",
              "        text-align: right;\n",
              "    }\n",
              "</style>\n",
              "<table border=\"1\" class=\"dataframe\">\n",
              "  <thead>\n",
              "    <tr style=\"text-align: right;\">\n",
              "      <th></th>\n",
              "      <th>States</th>\n",
              "      <th>Latitude</th>\n",
              "      <th>Longitude</th>\n",
              "    </tr>\n",
              "  </thead>\n",
              "  <tbody>\n",
              "    <tr>\n",
              "      <th>0</th>\n",
              "      <td>Abia (2)</td>\n",
              "      <td>5.532003</td>\n",
              "      <td>7.486002</td>\n",
              "    </tr>\n",
              "    <tr>\n",
              "      <th>1</th>\n",
              "      <td>Adamawa (3)</td>\n",
              "      <td>10.270341</td>\n",
              "      <td>13.270032</td>\n",
              "    </tr>\n",
              "    <tr>\n",
              "      <th>2</th>\n",
              "      <td>Akwa Ibom (2)</td>\n",
              "      <td>5.007996</td>\n",
              "      <td>7.849999</td>\n",
              "    </tr>\n",
              "    <tr>\n",
              "      <th>3</th>\n",
              "      <td>Anambra (2)</td>\n",
              "      <td>6.210434</td>\n",
              "      <td>7.069997</td>\n",
              "    </tr>\n",
              "    <tr>\n",
              "      <th>4</th>\n",
              "      <td>Bauchi (2)</td>\n",
              "      <td>11.680410</td>\n",
              "      <td>10.190013</td>\n",
              "    </tr>\n",
              "    <tr>\n",
              "      <th>5</th>\n",
              "      <td>Benue (2)</td>\n",
              "      <td>7.190400</td>\n",
              "      <td>8.129984</td>\n",
              "    </tr>\n",
              "    <tr>\n",
              "      <th>6</th>\n",
              "      <td>Borno (3)</td>\n",
              "      <td>10.620423</td>\n",
              "      <td>12.189995</td>\n",
              "    </tr>\n",
              "    <tr>\n",
              "      <th>7</th>\n",
              "      <td>Cross River (1)</td>\n",
              "      <td>4.960407</td>\n",
              "      <td>8.330024</td>\n",
              "    </tr>\n",
              "    <tr>\n",
              "      <th>8</th>\n",
              "      <td>Delta (2)</td>\n",
              "      <td>5.890427</td>\n",
              "      <td>5.680004</td>\n",
              "    </tr>\n",
              "    <tr>\n",
              "      <th>9</th>\n",
              "      <td>Edo (1)</td>\n",
              "      <td>6.340477</td>\n",
              "      <td>5.620008</td>\n",
              "    </tr>\n",
              "    <tr>\n",
              "      <th>10</th>\n",
              "      <td>Ekiti (1)</td>\n",
              "      <td>7.630373</td>\n",
              "      <td>5.219981</td>\n",
              "    </tr>\n",
              "    <tr>\n",
              "      <th>11</th>\n",
              "      <td>Enugu (2)</td>\n",
              "      <td>6.867034</td>\n",
              "      <td>7.383363</td>\n",
              "    </tr>\n",
              "    <tr>\n",
              "      <th>12</th>\n",
              "      <td>Federal Capital Territory (1)</td>\n",
              "      <td>9.083333</td>\n",
              "      <td>7.533328</td>\n",
              "    </tr>\n",
              "    <tr>\n",
              "      <th>13</th>\n",
              "      <td>Gombe (2)</td>\n",
              "      <td>10.290443</td>\n",
              "      <td>11.169954</td>\n",
              "    </tr>\n",
              "    <tr>\n",
              "      <th>14</th>\n",
              "      <td>Imo (2)</td>\n",
              "      <td>5.492997</td>\n",
              "      <td>7.026004</td>\n",
              "    </tr>\n",
              "    <tr>\n",
              "      <th>15</th>\n",
              "      <td>Jigawa (1)</td>\n",
              "      <td>11.799189</td>\n",
              "      <td>9.350335</td>\n",
              "    </tr>\n",
              "    <tr>\n",
              "      <th>16</th>\n",
              "      <td>Kaduna (2)</td>\n",
              "      <td>11.079981</td>\n",
              "      <td>7.710010</td>\n",
              "    </tr>\n",
              "    <tr>\n",
              "      <th>17</th>\n",
              "      <td>Kano (1)</td>\n",
              "      <td>11.999977</td>\n",
              "      <td>8.520038</td>\n",
              "    </tr>\n",
              "    <tr>\n",
              "      <th>18</th>\n",
              "      <td>Katsina (2)</td>\n",
              "      <td>11.520394</td>\n",
              "      <td>7.320008</td>\n",
              "    </tr>\n",
              "    <tr>\n",
              "      <th>19</th>\n",
              "      <td>Kebbi (2)</td>\n",
              "      <td>12.450414</td>\n",
              "      <td>4.199940</td>\n",
              "    </tr>\n",
              "    <tr>\n",
              "      <th>20</th>\n",
              "      <td>Kogi (2)</td>\n",
              "      <td>7.800388</td>\n",
              "      <td>6.739940</td>\n",
              "    </tr>\n",
              "    <tr>\n",
              "      <th>21</th>\n",
              "      <td>Kwara (1)</td>\n",
              "      <td>8.490010</td>\n",
              "      <td>4.549996</td>\n",
              "    </tr>\n",
              "    <tr>\n",
              "      <th>22</th>\n",
              "      <td>Lagos (1)</td>\n",
              "      <td>6.443262</td>\n",
              "      <td>3.391531</td>\n",
              "    </tr>\n",
              "    <tr>\n",
              "      <th>23</th>\n",
              "      <td>Nassarawa (2)</td>\n",
              "      <td>8.490424</td>\n",
              "      <td>8.520038</td>\n",
              "    </tr>\n",
              "    <tr>\n",
              "      <th>24</th>\n",
              "      <td>Niger (3)</td>\n",
              "      <td>10.400359</td>\n",
              "      <td>5.469940</td>\n",
              "    </tr>\n",
              "    <tr>\n",
              "      <th>25</th>\n",
              "      <td>Ogun (2)</td>\n",
              "      <td>7.160427</td>\n",
              "      <td>3.350017</td>\n",
              "    </tr>\n",
              "    <tr>\n",
              "      <th>26</th>\n",
              "      <td>Ondo (4)</td>\n",
              "      <td>7.250396</td>\n",
              "      <td>5.199982</td>\n",
              "    </tr>\n",
              "    <tr>\n",
              "      <th>27</th>\n",
              "      <td>Osun (3)</td>\n",
              "      <td>7.629959</td>\n",
              "      <td>4.179993</td>\n",
              "    </tr>\n",
              "    <tr>\n",
              "      <th>28</th>\n",
              "      <td>Oyo (4)</td>\n",
              "      <td>7.970016</td>\n",
              "      <td>3.590003</td>\n",
              "    </tr>\n",
              "    <tr>\n",
              "      <th>29</th>\n",
              "      <td>Plateau (1)</td>\n",
              "      <td>9.929974</td>\n",
              "      <td>8.890041</td>\n",
              "    </tr>\n",
              "    <tr>\n",
              "      <th>30</th>\n",
              "      <td>Rivers (1)</td>\n",
              "      <td>4.810002</td>\n",
              "      <td>7.010001</td>\n",
              "    </tr>\n",
              "    <tr>\n",
              "      <th>31</th>\n",
              "      <td>Sokoto (1)</td>\n",
              "      <td>13.060015</td>\n",
              "      <td>5.240031</td>\n",
              "    </tr>\n",
              "    <tr>\n",
              "      <th>32</th>\n",
              "      <td>Taraba (2)</td>\n",
              "      <td>7.870410</td>\n",
              "      <td>9.780013</td>\n",
              "    </tr>\n",
              "    <tr>\n",
              "      <th>33</th>\n",
              "      <td>Yobe (4)</td>\n",
              "      <td>11.748996</td>\n",
              "      <td>11.966005</td>\n",
              "    </tr>\n",
              "    <tr>\n",
              "      <th>34</th>\n",
              "      <td>Zamfara (1)</td>\n",
              "      <td>12.170406</td>\n",
              "      <td>6.659996</td>\n",
              "    </tr>\n",
              "  </tbody>\n",
              "</table>\n",
              "</div>\n",
              "      <button class=\"colab-df-convert\" onclick=\"convertToInteractive('df-11393c9d-15e9-42d4-a7b3-fef8f7f5b2b0')\"\n",
              "              title=\"Convert this dataframe to an interactive table.\"\n",
              "              style=\"display:none;\">\n",
              "        \n",
              "  <svg xmlns=\"http://www.w3.org/2000/svg\" height=\"24px\"viewBox=\"0 0 24 24\"\n",
              "       width=\"24px\">\n",
              "    <path d=\"M0 0h24v24H0V0z\" fill=\"none\"/>\n",
              "    <path d=\"M18.56 5.44l.94 2.06.94-2.06 2.06-.94-2.06-.94-.94-2.06-.94 2.06-2.06.94zm-11 1L8.5 8.5l.94-2.06 2.06-.94-2.06-.94L8.5 2.5l-.94 2.06-2.06.94zm10 10l.94 2.06.94-2.06 2.06-.94-2.06-.94-.94-2.06-.94 2.06-2.06.94z\"/><path d=\"M17.41 7.96l-1.37-1.37c-.4-.4-.92-.59-1.43-.59-.52 0-1.04.2-1.43.59L10.3 9.45l-7.72 7.72c-.78.78-.78 2.05 0 2.83L4 21.41c.39.39.9.59 1.41.59.51 0 1.02-.2 1.41-.59l7.78-7.78 2.81-2.81c.8-.78.8-2.07 0-2.86zM5.41 20L4 18.59l7.72-7.72 1.47 1.35L5.41 20z\"/>\n",
              "  </svg>\n",
              "      </button>\n",
              "      \n",
              "  <style>\n",
              "    .colab-df-container {\n",
              "      display:flex;\n",
              "      flex-wrap:wrap;\n",
              "      gap: 12px;\n",
              "    }\n",
              "\n",
              "    .colab-df-convert {\n",
              "      background-color: #E8F0FE;\n",
              "      border: none;\n",
              "      border-radius: 50%;\n",
              "      cursor: pointer;\n",
              "      display: none;\n",
              "      fill: #1967D2;\n",
              "      height: 32px;\n",
              "      padding: 0 0 0 0;\n",
              "      width: 32px;\n",
              "    }\n",
              "\n",
              "    .colab-df-convert:hover {\n",
              "      background-color: #E2EBFA;\n",
              "      box-shadow: 0px 1px 2px rgba(60, 64, 67, 0.3), 0px 1px 3px 1px rgba(60, 64, 67, 0.15);\n",
              "      fill: #174EA6;\n",
              "    }\n",
              "\n",
              "    [theme=dark] .colab-df-convert {\n",
              "      background-color: #3B4455;\n",
              "      fill: #D2E3FC;\n",
              "    }\n",
              "\n",
              "    [theme=dark] .colab-df-convert:hover {\n",
              "      background-color: #434B5C;\n",
              "      box-shadow: 0px 1px 3px 1px rgba(0, 0, 0, 0.15);\n",
              "      filter: drop-shadow(0px 1px 2px rgba(0, 0, 0, 0.3));\n",
              "      fill: #FFFFFF;\n",
              "    }\n",
              "  </style>\n",
              "\n",
              "      <script>\n",
              "        const buttonEl =\n",
              "          document.querySelector('#df-11393c9d-15e9-42d4-a7b3-fef8f7f5b2b0 button.colab-df-convert');\n",
              "        buttonEl.style.display =\n",
              "          google.colab.kernel.accessAllowed ? 'block' : 'none';\n",
              "\n",
              "        async function convertToInteractive(key) {\n",
              "          const element = document.querySelector('#df-11393c9d-15e9-42d4-a7b3-fef8f7f5b2b0');\n",
              "          const dataTable =\n",
              "            await google.colab.kernel.invokeFunction('convertToInteractive',\n",
              "                                                     [key], {});\n",
              "          if (!dataTable) return;\n",
              "\n",
              "          const docLinkHtml = 'Like what you see? Visit the ' +\n",
              "            '<a target=\"_blank\" href=https://colab.research.google.com/notebooks/data_table.ipynb>data table notebook</a>'\n",
              "            + ' to learn more about interactive tables.';\n",
              "          element.innerHTML = '';\n",
              "          dataTable['output_type'] = 'display_data';\n",
              "          await google.colab.output.renderOutput(dataTable, element);\n",
              "          const docLink = document.createElement('div');\n",
              "          docLink.innerHTML = docLinkHtml;\n",
              "          element.appendChild(docLink);\n",
              "        }\n",
              "      </script>\n",
              "    </div>\n",
              "  </div>\n",
              "  "
            ]
          },
          "metadata": {},
          "execution_count": 15
        }
      ]
    },
    {
      "cell_type": "code",
      "source": [
        "loc_data.to_csv('newdata1.csv')"
      ],
      "metadata": {
        "id": "si3JGP0tc_ny"
      },
      "execution_count": 19,
      "outputs": []
    },
    {
      "cell_type": "code",
      "source": [
        "#The dataframe has been exported to a CSV file which i have downloaded to my local PC\n",
        "#End"
      ],
      "metadata": {
        "id": "dsY8CtLddih2"
      },
      "execution_count": 20,
      "outputs": []
    },
    {
      "cell_type": "code",
      "source": [
        ""
      ],
      "metadata": {
        "id": "x4WKXy3LeIw2"
      },
      "execution_count": null,
      "outputs": []
    }
  ]
}